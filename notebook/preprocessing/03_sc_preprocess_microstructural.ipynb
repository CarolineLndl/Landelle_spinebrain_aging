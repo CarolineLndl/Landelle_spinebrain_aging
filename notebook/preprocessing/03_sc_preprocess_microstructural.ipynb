{
 "cells": [
  {
   "cell_type": "markdown",
   "metadata": {},
   "source": [
    "# <font color=#B2D732> <span style=\"background-color: #4424D6\"> Spinal cord microstructural preprocessings </font>\n",
    "<hr style=\"border:1px solid black\">  \n",
    "\n",
    "*Project: 2024_brsc_aging_project*  \n",
    "*Paper: in prep*  \n",
    "**@ author:** \n",
    "> Caroline Landelle, caroline.landelle@mcgill.ca // landelle.caroline@gmail.com   \n",
    "> June 2024 (last update: 4 June 2024)\n",
    "\n",
    "**Description:** \n",
    "> This notebook provides code for microstructural MRI data of spinal cord acquisition.\n",
    "> The second line of the section \"imports & configuration\" of this notebook should be modify with the good path \n",
    "\n",
    "\n",
    "**Associated files:**\n",
    "> - ../config/02_brsc_preprocess_microstructural*.json ; This file contains the directories and should be modified first\n",
    "> - ../config/participants_brsc_*.tsv ; this file contains the information about the participants and should be updated after each new acquisition\n",
    "> - ../brsc_preprocess.py ; Nothing should be changed in this file\n",
    "> - ../BrSc_utils.py; Nothing should be changed in this file\n",
    "> - You need to copy the version sct6.1 of the template and atlas that include spinal segmental levels + WM tracts and put the path in the config file \"PAM50_sct_dir\":\".../template_sct6.1\",\n",
    " \n",
    "\n",
    "**Steps:**\n",
    "> **I. T2ws image**  \n",
    "> I.1 Selct files\n",
    "> I.2 Segmentation \n",
    "> I.2 Registration into PAM50 space\n",
    " \n",
    "\n",
    "<hr style=\"border:1px solid black\">\n",
    "\n"
   ]
  },
  {
   "cell_type": "markdown",
   "metadata": {},
   "source": [
    "## <font color=#B2D732> <span style=\"background-color: #4424D6\">  Imports & configuration </font >"
   ]
  },
  {
   "cell_type": "code",
   "execution_count": 52,
   "metadata": {
    "scrolled": true
   },
   "outputs": [
    {
     "name": "stdout",
     "output_type": "stream",
     "text": [
      "The autoreload extension is already loaded. To reload it, use:\n",
      "  %reload_ext autoreload\n",
      "The config files should be manually modified first\n",
      "All the raw data should be store in BIDS format\n",
      " \n"
     ]
    }
   ],
   "source": [
    "import sys, json, glob, os, shutil\n",
    "code_dir=\"/cerebro/cerebro1/dataset/bmpd/derivatives/Aging_project/2025_brsc_aging_project/\"\n",
    "os.chdir(code_dir)\n",
    "sys.path.append(code_dir + \"/code/\") # Change this line according to your directory\n",
    "\n",
    "from brsc_preprocess import Preprocess_BrSc, Preprocess_Sc, Preprocess_Br\n",
    "import brsc_utils as utils\n",
    "#\n",
    "%load_ext autoreload\n",
    "%autoreload 2\n",
    "%matplotlib inline\n",
    "    \n",
    "# Load config file ------------------------------------------------------------\n",
    "# The config file should be first review and all path should be modified (lines: )\n",
    "with open(code_dir + '/config/preprocessing/03_sc_preprocess_microstructural.json') as config_file: # the notebook should be in 'xx/notebook/' folder #config_proprio\n",
    "    config = json.load(config_file) # load config file should be open first and the path inside modified\n",
    "    \n",
    "preprocess_BrSc=Preprocess_BrSc(config) # initialize the function\n",
    "preprocess_Sc=Preprocess_Sc(config) # initialize the function\n",
    "preprocess_Br=Preprocess_Br(config) # initialize the function\n"
   ]
  },
  {
   "cell_type": "markdown",
   "metadata": {},
   "source": [
    "<hr style=\"border:1px solid black\">\n",
    "\n",
    "## <font color=#B2D732> <span style=\"background-color: #4424D6\"> I. T2w preprocessings </font>"
   ]
  },
  {
   "cell_type": "markdown",
   "metadata": {},
   "source": [
    "#### I.1 Select file and copy if necessary"
   ]
  },
  {
   "cell_type": "code",
   "execution_count": 20,
   "metadata": {},
   "outputs": [],
   "source": [
    "T2w_raw_files=[];T2w_files=[]; warpT1w_PAM50_files=[];warpPAM50_T1w_files=[]\n",
    "for ID_nb,ID in enumerate(config[\"participants_IDs\"]):\n",
    "    tag_anat=\"\"\n",
    "    preprocess_dir=config[\"main_dir\"]+ config[\"preprocess_dir\"][\"bmpd_dir\"] if ID[0]==\"P\" else config[\"main_dir\"] +config[\"preprocess_dir\"][\"main_dir\"]\n",
    "    raw_dir= config[\"main_dir\"]+ config[\"bmpd_raw_dir\"] if ID[0]==\"P\" else config[\"main_dir\"]+ config[\"raw_dir\"]\n",
    "    IDbis=ID#\n",
    "\n",
    "    if ID in config['files_specificities'][\"T2w\"]:\n",
    "        tag_anat=config['files_specificities'][\"T2w\"][ID] # if you provided filename specifity it will be take into account \n",
    "\n",
    "    if ID in config[\"double_IDs\"]:\n",
    "        IDbis=config[\"double_IDs\"][ID]\n",
    "\n",
    "    T2w_raw_files.append(glob.glob(raw_dir + \"/sub-\" + ID+ \"/\"+ config[\"design_exp\"][\"ses_names\"][0]+ \"/anat/sub-\"+IDbis+tag_anat+\"_T2w.nii*\")[0])\n",
    "    if ID in config[\"double_IDs\"]:\n",
    "        T2w_files.append(preprocess_dir + \"sub-\" + ID + \"/anat/sub-\" + ID + os.path.basename(T2w_raw_files[ID_nb]).split(ID[1:4])[1])\n",
    "    else:\n",
    "        T2w_files.append(preprocess_dir + \"sub-\" + ID + \"/anat/\" +os.path.basename(T2w_raw_files[ID_nb]))\n",
    "\n",
    "    if not os.path.exists(T2w_files[ID_nb]):\n",
    "        shutil.copy(T2w_raw_files[ID_nb], T2w_files[ID_nb])\n",
    "\n",
    "    warpT1w_PAM50_files.append(glob.glob(preprocess_dir + \"sub-\" + ID + \"/anat/\"+ config[\"preprocess_dir\"][\"T1w_sc_coreg\"] + \"*from-T1w_to-PAM50*\")[0])\n",
    "    warpPAM50_T1w_files.append(glob.glob(preprocess_dir + \"sub-\" + ID + \"/anat/\"+ config[\"preprocess_dir\"][\"T1w_sc_coreg\"] + \"*from-PAM50_to-T1w*\")[0])\n",
    "\n",
    "    "
   ]
  },
  {
   "cell_type": "code",
   "execution_count": 31,
   "metadata": {},
   "outputs": [
    {
     "data": {
      "text/plain": [
       "['/cerebro/cerebro1/dataset/stratals/derivatives/preprocessing/sub-A006_test/anat/sub-A006_test_T2w.nii.gz']"
      ]
     },
     "execution_count": 31,
     "metadata": {},
     "output_type": "execute_result"
    }
   ],
   "source": [
    "T2w_files=[]\n",
    "for ID_nb,ID in enumerate(config[\"participants_IDs\"]):\n",
    "    T2w_files.append(preprocess_dir + \"sub-\" + ID + \"/anat/sub-\" + ID + os.path.basename(T2w_raw_files[ID_nb]).split(ID[1:4])[1])\n",
    "T2w_files    "
   ]
  },
  {
   "cell_type": "markdown",
   "metadata": {},
   "source": [
    "### I.2 Segmentation\n",
    "#### a segment the spinal cord (WM+GM)\n",
    "<span style=\"background-color: #FFFACD\"> <font color=#efb017> **/!\\**  </font>  In this dataset the segmentation mask were all corrected manually by overwriting the file: **/func///4_Segmentation//spinalcord/*seg.nii.gz  </span> "
   ]
  },
  {
   "cell_type": "code",
   "execution_count": 32,
   "metadata": {},
   "outputs": [
    {
     "name": "stdout",
     "output_type": "stream",
     "text": [
      "/cerebro/cerebro1/dataset/stratals/derivatives/preprocessing/sub-A006_test//anat//T2w_aging_project/segmentation/\n",
      ">>>>> Segmentation file already exists for the T2wimage of the sub-A006_test \n",
      "fsleyes /cerebro/cerebro1/dataset/stratals/derivatives/preprocessing/sub-A006_test//anat//T2w_aging_project/segmentation/sub-A006_test_T2w_cord_seg.nii.gz\n",
      " \n",
      "/cerebro/cerebro1/dataset/stratals/derivatives/preprocessing/sub-A006_test//anat//T2w_aging_project/segmentation/\n",
      ">>>>> Segmentation file already exists for the T2wimage of the sub-A006_test \n",
      "fsleyes /cerebro/cerebro1/dataset/stratals/derivatives/preprocessing/sub-A006_test//anat//T2w_aging_project/segmentation/sub-A006_test_T2w_gm_seg.nii.gz\n",
      " \n",
      "/cerebro/cerebro1/dataset/stratals/derivatives/preprocessing/sub-A006_test//anat//T2w_aging_project/segmentation/\n",
      ">>>>> Segmentation file already exists for the T2wimage of the sub-A006_test \n",
      "fsleyes /cerebro/cerebro1/dataset/stratals/derivatives/preprocessing/sub-A006_test//anat//T2w_aging_project/segmentation/sub-A006_test_T2w_wm_seg.nii.gz\n",
      " \n",
      "/cerebro/cerebro1/dataset/stratals/derivatives/preprocessing/sub-A006_test//anat//T2w_aging_project/segmentation/\n",
      ">>>>> Segmentation file already exists for the T2wimage of the sub-A006_test \n",
      "fsleyes /cerebro/cerebro1/dataset/stratals/derivatives/preprocessing/sub-A006_test//anat//T2w_aging_project/segmentation/sub-A006_test_T2w_propseg.nii.gz\n",
      " \n"
     ]
    }
   ],
   "source": [
    "seg_gm_T2w_files=[];seg_cord_T2w_files=[] # will contain the output filename for all participants.\n",
    "seg_wm_T2w_files=[];seg_csf_T2w_files=[]\n",
    "for ID_nb, ID in enumerate(config[\"participants_IDs\"]):\n",
    "    seg_cord_T2w_files.append(preprocess_Sc.segmentation(ID=ID,i_img=T2w_files[ID_nb], ses_name=config[\"design_exp\"][\"ses_names\"][0],img_type=\"T2w\",contrast_anat=\"t2s\",tag=\"_cord_seg.nii.gz\",redo=False,verbose=True))\n",
    "    seg_gm_T2w_files.append(preprocess_Sc.segmentation(ID=ID,i_img=T2w_files[ID_nb], ses_name=config[\"design_exp\"][\"ses_names\"][0],img_type=\"T2w\",contrast_anat=\"t2s\",tissue=\"gm\",tag=\"_gm_seg.nii.gz\",redo=False,verbose=True))\n",
    "    seg_wm_T2w_files.append(preprocess_Sc.segmentation(ID=ID,i_img=seg_cord_T2w_files[ID_nb], i_gm_img=seg_gm_T2w_files[ID_nb],ses_name=config[\"design_exp\"][\"ses_names\"][0],img_type=\"T2w\",contrast_anat=\"t2s\",tissue=\"wm\",tag=\"_wm_seg.nii.gz\",redo=False,verbose=True))\n",
    "    seg_csf_T2w_files.append(preprocess_Sc.segmentation(ID=ID,i_img=T2w_files[ID_nb], ses_name=config[\"design_exp\"][\"ses_names\"][0],img_type=\"T2w\",contrast_anat=\"t2s\",tissue=\"csf\",tag=\"_propseg.nii.gz\",redo=False,verbose=True))\n",
    "    \n",
    " "
   ]
  },
  {
   "cell_type": "markdown",
   "metadata": {},
   "source": [
    "### VI.2 Coregistration to PAM50 template\n",
    "#### a Coregistration between T2w image and PAM50\n",
    "https://spinalcordtoolbox.com/user_section/tutorials/gray-matter-segmentation/improving-registration-with-gm-seg/gm-informed-t2s-template-registration.html\n",
    "T2* scans are typically acquired axially with thick slices, it is much more difficult to acquire the vertebral labels needed for the vertebral matching step.\n",
    "Thus we use  sct_register_multimodal with initialization (warping field) between T1w and PAM50 were we were abled to extract the vertebral labels."
   ]
  },
  {
   "cell_type": "code",
   "execution_count": 39,
   "metadata": {},
   "outputs": [
    {
     "name": "stdout",
     "output_type": "stream",
     "text": [
      ">>>>> Registration between func image and PAM50 already exists for sub-A006_test\n",
      " \n"
     ]
    }
   ],
   "source": [
    "T2w2PAM50_dirs=[];o_warp_imgs=[];o_warpinv_imgs=[] # will contain the output filename for all participants.\n",
    "template_dir=\"/cerebro/cerebro1/dataset/bmpd/derivatives/Aging_project/templates/PAM50/template/\"\n",
    "    \n",
    "for ID_nb, ID in enumerate(config[\"participants_IDs\"]):\n",
    "    \n",
    "    # coregistration with PAM50\n",
    "    T2w2PAM50=preprocess_Sc.coreg_img2PAM50(ID=ID,i_img=T2w_files[ID_nb],\n",
    "                                            i_seg=seg_wm_T2w_files[ID_nb],\n",
    "                                            PAM50_cord=config[\"tools_dir\"][\"main_codes\"] +config[\"PAM50_wm\"],\n",
    "                                            PAM50_t2=config[\"tools_dir\"][\"main_codes\"] +config[\"PAM50_t2\"],\n",
    "                                            ses_name=config[\"design_exp\"][\"ses_names\"][0],\n",
    "                                            o_folder=os.path.dirname(T2w_files[ID_nb]) + config[\"preprocess_dir\"][\"T2w_sc_coreg\"],\n",
    "                                            initwarp=warpT1w_PAM50_files[ID_nb],initwarpinv=warpPAM50_T1w_files[ID_nb],\n",
    "                                            img_type=\"t2s\",\n",
    "                                            redo=False,verbose=True)\n",
    "    \n",
    "    T2w2PAM50_dirs.append(T2w2PAM50[0])\n",
    "    o_warp_imgs.append(T2w2PAM50[1])\n",
    "    o_warpinv_imgs.append(T2w2PAM50[2])\n",
    "\n",
    "    # wrap PAM50 files into T2w space, this step requiered the v6.1 of the template to include the segmental levels (config[\"PAM50_sct_dir\"])\n",
    "    \n",
    "    if not os.path.exists(T2w2PAM50_dirs[ID_nb] + \"/template/PAM50_cord.nii.gz\"):\n",
    "        string1=\"sct_warp_template -d \"+T2w_files[ID_nb]+\" -w \" + o_warpinv_imgs[ID_nb] + \" -a 1 -ofolder \"+T2w2PAM50_dirs[ID_nb]+\" -t \" +config[\"PAM50_sct_dir\"]\n",
    "        os.system(string1)\n",
    "\n",
    "        # add home made atlas (spinal levels from icaps)\n",
    "        function=\"/cerebro/cerebro1/dataset/bmpd/derivatives/thibault_test/code/toolbox/spinalcordtoolbox-5.6.0/bin/isct_antsApplyTransforms\"\n",
    "        for atlas in [\"_\" , \"_gm_\",\"_wm_\"]:\n",
    "                string=function + \" -d 3 -i \" +config[\"PAM50_sct_dir\"] + \"/template/PAM50_Frostell\"+atlas+\"28Parcels_7Networks.nii.gz -o \" +T2w2PAM50_dirs[ID_nb] +\"/template/PAM50_Frostell\"+atlas+\"28Parcels_7Networks.nii.gz -t \" + o_warpinv_imgs[ID_nb] +\" -r \" +T2w_files[ID_nb] + \" -n NearestNeighbor\"\n",
    "                os.system(string)\n",
    "    # Apply transformation for gm and wm masks into PAM50\n",
    "    for i_img in[seg_gm_T2w_files,seg_wm_T2w_files,seg_cord_T2w_files]:\n",
    "        preprocess_Sc.apply_warp(i_img=i_img,ID=config[\"participants_IDs\"],\n",
    "                                o_folder=T2w2PAM50_dirs,\n",
    "                                 warping_field=o_warp_imgs,\n",
    "                                 threshold=0.15,\n",
    "                                 ses_name=config[\"design_exp\"][\"ses_names\"][0],tag='_inPAM50',\n",
    "                                 redo=False,n_jobs=8)\n",
    "        \n"
   ]
  },
  {
   "cell_type": "markdown",
   "metadata": {},
   "source": [
    "<hr style=\"border:1px solid black\">\n",
    "\n",
    "## <font color=#B2D732> <span style=\"background-color: #4424D6\"> II. Magnetisation transfert preprocessings </font>"
   ]
  },
  {
   "cell_type": "markdown",
   "metadata": {},
   "source": [
    "### II.1 Select file and copy if necessary"
   ]
  },
  {
   "cell_type": "code",
   "execution_count": 43,
   "metadata": {},
   "outputs": [],
   "source": [
    "MTon_raw_files=[];MTon_files=[];MToff_raw_files=[];MToff_files=[]\n",
    "for ID_nb,ID in enumerate(config[\"participants_IDs\"]):\n",
    "    tag_anat=\"\"\n",
    "    preprocess_dir=config[\"main_dir\"]+ config[\"preprocess_dir\"][\"bmpd_dir\"] if ID[0]==\"P\" else config[\"main_dir\"] +config[\"preprocess_dir\"][\"main_dir\"]\n",
    "    raw_dir= config[\"main_dir\"]+ config[\"bmpd_raw_dir\"] if ID[0]==\"P\" else config[\"main_dir\"]+ config[\"raw_dir\"]\n",
    "    IDbis=ID\n",
    "    if ID in config['files_specificities'][\"MT\"]:\n",
    "        tag_anat=config['files_specificities'][\"MT\"][ID] # if you provided filename specifity it will be take into account \n",
    "\n",
    "    if ID in config[\"double_IDs\"]:\n",
    "        IDbis=config[\"double_IDs\"][ID]\n",
    "\n",
    "    MTon_raw_files.append(glob.glob(raw_dir + \"/sub-\" + ID+ \"/\"+ config[\"design_exp\"][\"ses_names\"][0]+ \"/anat/sub-\"+IDbis+ \"*MTonMTS*\"+tag_anat +\"*.nii*\")[0])\n",
    "    MToff_raw_files.append(glob.glob(raw_dir + \"/sub-\" + ID+ \"/\"+ config[\"design_exp\"][\"ses_names\"][0]+ \"/anat/sub-\"+IDbis+ \"*MToffMTS*\"+tag_anat +\"*.nii*\")[0])\n",
    "    \n",
    "    if ID in config[\"double_IDs\"]:\n",
    "        MTon_files.append(preprocess_dir + \"sub-\" + ID + \"/anat/sub-\" + ID + os.path.basename(MTon_raw_files[ID_nb]).split(ID[1:4])[1])\n",
    "        MToff_files.append(preprocess_dir + \"sub-\" + ID + \"/anat/sub-\" + ID + os.path.basename(MToff_raw_files[ID_nb]).split(ID[1:4])[1])\n",
    "    else:\n",
    "        MTon_files.append(preprocess_dir + \"sub-\" + ID + \"/anat/\" +os.path.basename(MTon_raw_files[ID_nb]))\n",
    "        MToff_files.append(preprocess_dir + \"sub-\" + ID + \"/anat/\" +os.path.basename(MToff_raw_files[ID_nb]))\n",
    "\n",
    "    if not os.path.exists(MTon_files[ID_nb]):\n",
    "        shutil.copy(MTon_raw_files[ID_nb], MTon_files[ID_nb])\n",
    "        shutil.copy(MToff_raw_files[ID_nb], MToff_files[ID_nb])\n",
    "    "
   ]
  },
  {
   "cell_type": "markdown",
   "metadata": {},
   "source": [
    "### II.1 Segmentation and mask"
   ]
  },
  {
   "cell_type": "code",
   "execution_count": 45,
   "metadata": {},
   "outputs": [
    {
     "name": "stdout",
     "output_type": "stream",
     "text": [
      "/cerebro/cerebro1/dataset/stratals/derivatives/preprocessing/sub-A006_test//anat//MT_aging_project/segmentation/\n",
      ">>>>> Segmentation file already exists for the MTimage of the sub-A006_test \n",
      "fsleyes /cerebro/cerebro1/dataset/stratals/derivatives/preprocessing/sub-A006_test//anat//MT_aging_project/segmentation/sub-A006_test_acq-MTonMTS_T1w_cord_seg.nii.gz\n",
      " \n"
     ]
    }
   ],
   "source": [
    "seg_MTon_files=[];mask_MTon_files=[]\n",
    "\n",
    "for ID_nb in range(0,len(config[\"participants_IDs\"])):\n",
    "    \n",
    "   \n",
    "    ID=config[\"participants_IDs\"][ID_nb]\n",
    "    # segmentation\n",
    "    seg_MTon_files.append(preprocess_Sc.segmentation(ID=ID,\n",
    "                                                     i_img=MTon_files[ID_nb], \n",
    "                                                     ses_name=config[\"design_exp\"][\"ses_names\"][0],\n",
    "                                                     img_type=\"MT\",\n",
    "                                                     contrast_anat=\"t2\",\n",
    "                                                     tissue=\"cord\",\n",
    "                                                     tag=\"_cord_seg.nii.gz\",\n",
    "                                                     redo=False))\n",
    "\n",
    "    #mask\n",
    "    mask_MTon_files.append(seg_MTon_files[ID_nb].split('seg.nii.gz')[0] + 'mask.nii.gz')\n",
    "    if not os.path.exists(mask_MTon_files[ID_nb]):\n",
    "        string=\"sct_create_mask -i \"+MTon_files[ID_nb] +\" -p centerline,\"+seg_MTon_files[ID_nb]+\" -size 35mm -o \" + mask_MTon_files[ID_nb]\n",
    "        os.system(string)\n",
    " "
   ]
  },
  {
   "cell_type": "markdown",
   "metadata": {},
   "source": [
    "### II.4 Register MToff to MTon data"
   ]
  },
  {
   "cell_type": "code",
   "execution_count": 47,
   "metadata": {},
   "outputs": [],
   "source": [
    "MToff_reg=[]\n",
    "params = f\"step=1,type=im,algo=slicereg,metric=CC\"\n",
    "for ID_nb in range(0,len(config[\"participants_IDs\"])):\n",
    "    ID=config[\"participants_IDs\"][ID_nb]\n",
    "    preprocess_dir=config[\"main_dir\"]+ config[\"preprocess_dir\"][\"bmpd_dir\"] if ID[0]==\"P\" else config[\"main_dir\"] +config[\"preprocess_dir\"][\"main_dir\"]\n",
    "\n",
    "    o_folder=preprocess_dir + \"sub-\" + ID + \"/anat/\" + config[\"preprocess_dir\"][\"MT_sc_coreg\"]\n",
    "    MToff_reg.append(o_folder + os.path.basename(MToff_files[ID_nb]).split(\".\")[0] + \"_reg.nii.gz\")\n",
    "    if not os.path.exists(o_folder):\n",
    "        os.mkdir(o_folder)\n",
    "    if not os.path.exists(MToff_reg[ID_nb]):\n",
    "        string=\"sct_register_multimodal -i \"+MToff_files[ID_nb] + \" -d \" +MTon_files[ID_nb] + \" -dseg \" + seg_MTon_files[ID_nb] + \" -m \" + mask_MTon_files[ID_nb] + \" -param \" +params + \" -x spline -ofolder \" + o_folder\n",
    "        os.system(string)\n",
    "       "
   ]
  },
  {
   "cell_type": "markdown",
   "metadata": {},
   "source": [
    "### II.5 Compute mtr"
   ]
  },
  {
   "cell_type": "code",
   "execution_count": 49,
   "metadata": {},
   "outputs": [],
   "source": [
    "mtr_file=[]\n",
    "for ID_nb in range(0,len(config[\"participants_IDs\"])):\n",
    "    ID=config[\"participants_IDs\"][ID_nb]\n",
    "    preprocess_dir=config[\"main_dir\"]+ config[\"preprocess_dir\"][\"bmpd_dir\"] if ID[0]==\"P\" else config[\"main_dir\"] +config[\"preprocess_dir\"][\"main_dir\"]\n",
    "    o_folder=preprocess_dir + \"sub-\" + ID + \"/anat/\" + config[\"preprocess_dir\"][\"MT_sc_mtr\"]\n",
    "    mtr_file.append(o_folder + \"/sub-\" + ID + \"_MTR.nii.gz\")\n",
    "    if not os.path.exists(o_folder):\n",
    "        os.mkdir(o_folder)\n",
    "    if not os.path.exists(mtr_file[ID_nb]):\n",
    "        string=\"sct_compute_mtr -mt0 \" + MToff_reg[ID_nb] + ' -mt1 ' + MTon_files[ID_nb] + \" -o \" + mtr_file[ID_nb]\n",
    "        os.system(string)   "
   ]
  },
  {
   "cell_type": "markdown",
   "metadata": {},
   "source": [
    "### II.6 Register to PAM50 template"
   ]
  },
  {
   "cell_type": "code",
   "execution_count": 55,
   "metadata": {},
   "outputs": [
    {
     "name": "stdout",
     "output_type": "stream",
     "text": [
      ">>>>> Registration between func image and PAM50 already exists for sub-A006_test\n",
      " \n"
     ]
    }
   ],
   "source": [
    "MTR2PAM50_dirs=[];o_warp_imgs=[];o_warpinv_imgs=[] # will contain the output filename for all participants.\n",
    "for ID_nb, ID in enumerate(config[\"participants_IDs\"]):\n",
    "    ID=config[\"participants_IDs\"][ID_nb]\n",
    "    params = 'step=1,type=seg,algo=centermass,metric=MeanSquares:step=2,algo=bsplinesyn,type=seg,slicewise=1,iter=5'\n",
    "    \n",
    "    # coregistration with PAM50\n",
    "    MTR2PAM50=preprocess_Sc.coreg_img2PAM50(ID=ID,i_img=mtr_file[ID_nb],\n",
    "                                            i_seg=seg_MTon_files[ID_nb],\n",
    "                                            PAM50_cord=config[\"tools_dir\"][\"main_codes\"] +config[\"PAM50_cord\"],\n",
    "                                            PAM50_t2=config[\"tools_dir\"][\"main_codes\"] + config[\"PAM50_t2\"],#coreg_type=\"centermass\",\n",
    "                                            ses_name=config[\"design_exp\"][\"ses_names\"][0],\n",
    "                                            o_folder=os.path.dirname(MTon_files[ID_nb]) + config[\"preprocess_dir\"][\"MT_sc_coreg\"],\n",
    "                                            initwarp=warpT1w_PAM50_files[ID_nb],initwarpinv=warpPAM50_T1w_files[ID_nb],\n",
    "                                            img_type=\"mtr\",\n",
    "                                            redo=False,verbose=True)\n",
    "    \n",
    "    MTR2PAM50_dirs.append(MTR2PAM50[0])\n",
    "    o_warp_imgs.append(MTR2PAM50[1])\n",
    "    o_warpinv_imgs.append(MTR2PAM50[2])\n",
    "\n",
    "    if not os.path.exists(MTR2PAM50_dirs[ID_nb] + \"/template/PAM50_cord.nii.gz\"):\n",
    "        string=\"sct_warp_template -d \"+mtr_file[ID_nb]+\" -w \" + o_warpinv_imgs[ID_nb] + \" -a 1 -ofolder \"+MTR2PAM50_dirs[ID_nb]+\" -t \" +config[\"PAM50_sct_dir\"]\n",
    "        os.system(string)\n",
    "    \n",
    "        # add home made atlas (spinal levels from icaps)) \n",
    "        function=\"/cerebro/cerebro1/dataset/bmpd/derivatives/thibault_test/code/toolbox/spinalcordtoolbox-5.6.0/bin/isct_antsApplyTransforms\"\n",
    "        for atlas in [\"_\" , \"_gm_\",\"_wm_\"]:\n",
    "            string=function + \" -d 3 -i \" +config[\"PAM50_sct_dir\"] + \"/template/PAM50_Frostell\"+atlas+\"28Parcels_7Networks.nii.gz -o \" +MTR2PAM50_dirs[ID_nb] +\"/template/PAM50_Frostell\"+atlas+\"28Parcels_7Networks.nii.gz -t \" + o_warpinv_imgs[ID_nb] +\" -r \" +mtr_file[ID_nb] + \" -n NearestNeighbor\"\n",
    "            os.system(string)\n",
    "\n",
    "        for wm_atlas in [\"3tracts\"]:\n",
    "            string=function + \" -d 3 -i \" +config[\"PAM50_sct_dir\"] + \"/template/PAM50_wm_atlas_\"+wm_atlas+\".nii.gz -o \" +MTR2PAM50_dirs[ID_nb] +\"/template/PAM50_wm_atlas_\"+wm_atlas+\".nii.gz -t \" + o_warpinv_imgs[ID_nb] +\" -r \" +mtr_file[ID_nb] + \" -n NearestNeighbor\"\n",
    "            os.system(string)\n"
   ]
  }
 ],
 "metadata": {
  "kernelspec": {
   "display_name": "Python 3 (ipykernel)",
   "language": "python",
   "name": "python3"
  },
  "language_info": {
   "codemirror_mode": {
    "name": "ipython",
    "version": 3
   },
   "file_extension": ".py",
   "mimetype": "text/x-python",
   "name": "python",
   "nbconvert_exporter": "python",
   "pygments_lexer": "ipython3",
   "version": "3.10.14"
  },
  "varInspector": {
   "cols": {
    "lenName": 16,
    "lenType": 16,
    "lenVar": 40
   },
   "kernels_config": {
    "python": {
     "delete_cmd_postfix": "",
     "delete_cmd_prefix": "del ",
     "library": "var_list.py",
     "varRefreshCmd": "print(var_dic_list())"
    },
    "r": {
     "delete_cmd_postfix": ") ",
     "delete_cmd_prefix": "rm(",
     "library": "var_list.r",
     "varRefreshCmd": "cat(var_dic_list()) "
    }
   },
   "oldHeight": 834,
   "position": {
    "height": "793px",
    "left": "1128px",
    "right": "20px",
    "top": "31px",
    "width": "536px"
   },
   "types_to_exclude": [
    "module",
    "function",
    "builtin_function_or_method",
    "instance",
    "_Feature"
   ],
   "varInspector_section_display": "block",
   "window_display": false
  }
 },
 "nbformat": 4,
 "nbformat_minor": 4
}
