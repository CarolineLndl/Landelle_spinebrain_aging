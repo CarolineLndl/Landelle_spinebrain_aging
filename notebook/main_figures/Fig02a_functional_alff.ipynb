{
 "cells": [
  {
   "cell_type": "markdown",
   "id": "694655e6",
   "metadata": {},
   "source": [
    "# Computing ALFF\n",
    "Imput data should not be band pass and standardize "
   ]
  },
  {
   "cell_type": "markdown",
   "id": "6c63545b-ef67-4e86-b09e-19d34913b490",
   "metadata": {},
   "source": [
    "## <font color=#B2D732> <span style=\"background-color: #4424D6\"> Imports"
   ]
  },
  {
   "cell_type": "code",
   "execution_count": 9,
   "id": "f2cecaa2",
   "metadata": {},
   "outputs": [
    {
     "name": "stdout",
     "output_type": "stream",
     "text": [
      "The autoreload extension is already loaded. To reload it, use:\n",
      "  %reload_ext autoreload\n"
     ]
    }
   ],
   "source": [
    "import sys, glob\n",
    "main_dir=\"/cerebro/cerebro1/dataset/bmpd/derivatives/Aging_project/\"\n",
    "\n",
    "sys.path.append(main_dir + \"/2025_brsc_aging_project/code/\")\n",
    "from connectivity.alff import ALFF\n",
    "import pandas as pd\n",
    "import numpy as np\n",
    "import seaborn as sns\n",
    "import matplotlib.pyplot as plt\n",
    "import nibabel as nib\n",
    "import os.path\n",
    "import json\n",
    "\n",
    "from plotting import Plotting\n",
    "\n",
    "# Set numpy to print only 2 decimal digits for neatness\n",
    "np.set_printoptions(precision=2, suppress=True)\n",
    "\n",
    "# bibliography:\n",
    "# https://doi.org/10.1016/j.neuroimage.2009.09.037\n",
    "\n",
    "%matplotlib inline\n",
    "%load_ext autoreload\n",
    "%autoreload 2\n",
    "    "
   ]
  },
  {
   "cell_type": "markdown",
   "id": "af13fc53",
   "metadata": {},
   "source": [
    "## <font color=#B2D732> <span style=\"background-color: #4424D6\"> Load configuration"
   ]
  },
  {
   "cell_type": "code",
   "execution_count": 24,
   "id": "95d69a35",
   "metadata": {},
   "outputs": [],
   "source": [
    "with open('../../config/analyses/brsc_functional.json') as config_file:\n",
    "    config = json.load(config_file)"
   ]
  },
  {
   "cell_type": "markdown",
   "id": "43ed6c71",
   "metadata": {},
   "source": [
    "## <font color=#B2D732> <span style=\"background-color: #4424D6\"> 1. ALFF computations"
   ]
  },
  {
   "cell_type": "markdown",
   "id": "abb7941d",
   "metadata": {},
   "source": [
    "#### A. Create instance of ALFF class for further analyses"
   ]
  },
  {
   "cell_type": "code",
   "execution_count": 25,
   "id": "f1acf201",
   "metadata": {},
   "outputs": [
    {
     "name": "stdout",
     "output_type": "stream",
     "text": [
      "Output directory: /cerebro/cerebro1/dataset/bmpd/derivatives/Aging_project//figures/f02_functional_sc/alff_inPAM50_nostd_oct25/spinalcord//alff/slow5/\n"
     ]
    }
   ],
   "source": [
    "#redo with smoothed data to compare\n",
    "structure='spinalcord'\n",
    "ana=\"alff\"\n",
    "alff = ALFF(config,IDs=config[\"participants_IDs_ALL\"],structure=structure,analysis=ana) "
   ]
  },
  {
   "cell_type": "markdown",
   "id": "cf7708bc",
   "metadata": {},
   "source": [
    "#### B. Compute individual maps"
   ]
  },
  {
   "cell_type": "code",
   "execution_count": 26,
   "id": "e644c13e",
   "metadata": {},
   "outputs": [
    {
     "name": "stdout",
     "output_type": "stream",
     "text": [
      "ALFF MAPS COMPUTATION\n",
      "Overwrite old files: False\n",
      "... Preparing data\n",
      "... alff is Running\n",
      "[Parallel(n_jobs=4)]: Using backend LokyBackend with 4 concurrent workers.\n",
      "[Parallel(n_jobs=4)]: Done   1 tasks      | elapsed:    0.0s\n",
      "[Parallel(n_jobs=4)]: Batch computation too fast (0.03448152542114258s.) Setting batch_size=2.\n",
      "[Parallel(n_jobs=4)]: Done   2 tasks      | elapsed:    0.0s\n",
      "[Parallel(n_jobs=4)]: Done   3 tasks      | elapsed:    0.0s\n",
      "[Parallel(n_jobs=4)]: Done   4 tasks      | elapsed:    0.0s\n",
      "[Parallel(n_jobs=4)]: Done   5 tasks      | elapsed:    0.0s\n",
      "[Parallel(n_jobs=4)]: Done   6 tasks      | elapsed:    0.0s\n",
      "[Parallel(n_jobs=4)]: Done   7 tasks      | elapsed:    0.0s\n",
      "[Parallel(n_jobs=4)]: Done   8 tasks      | elapsed:    0.0s\n",
      "[Parallel(n_jobs=4)]: Done  10 tasks      | elapsed:    0.0s\n",
      "[Parallel(n_jobs=4)]: Batch computation too fast (0.013869285583496094s.) Setting batch_size=4.\n",
      "[Parallel(n_jobs=4)]: Done  12 tasks      | elapsed:    0.0s\n",
      "[Parallel(n_jobs=4)]: Done  14 tasks      | elapsed:    0.1s\n",
      "[Parallel(n_jobs=4)]: Done  16 tasks      | elapsed:    0.1s\n",
      "[Parallel(n_jobs=4)]: Done  18 tasks      | elapsed:    0.1s\n",
      "[Parallel(n_jobs=4)]: Done  20 tasks      | elapsed:    0.1s\n",
      "[Parallel(n_jobs=4)]: Done  22 tasks      | elapsed:    0.1s\n",
      "[Parallel(n_jobs=4)]: Done  24 tasks      | elapsed:    0.1s\n",
      "[Parallel(n_jobs=4)]: Done  28 tasks      | elapsed:    0.1s\n",
      "[Parallel(n_jobs=4)]: Batch computation too fast (0.02953815460205078s.) Setting batch_size=8.\n",
      "[Parallel(n_jobs=4)]: Done  32 tasks      | elapsed:    0.1s\n",
      "[Parallel(n_jobs=4)]: Done  36 tasks      | elapsed:    0.1s\n",
      "[Parallel(n_jobs=4)]: Done  40 tasks      | elapsed:    0.1s\n",
      "[Parallel(n_jobs=4)]: Done  44 tasks      | elapsed:    0.1s\n",
      "[Parallel(n_jobs=4)]: Done  48 tasks      | elapsed:    0.1s\n",
      "[Parallel(n_jobs=4)]: Done  52 tasks      | elapsed:    0.1s\n",
      "[Parallel(n_jobs=4)]: Done  56 tasks      | elapsed:    0.1s\n",
      "[Parallel(n_jobs=4)]: Done  57 tasks      | elapsed:    0.1s\n",
      "[Parallel(n_jobs=4)]: Done  58 tasks      | elapsed:    0.1s\n",
      "[Parallel(n_jobs=4)]: Done  59 tasks      | elapsed:    0.1s\n",
      "[Parallel(n_jobs=4)]: Done  60 tasks      | elapsed:    0.1s\n",
      "[Parallel(n_jobs=4)]: Done  61 out of  67 | elapsed:    0.1s remaining:    0.0s\n",
      "[Parallel(n_jobs=4)]: Done  62 out of  67 | elapsed:    0.1s remaining:    0.0s\n",
      "[Parallel(n_jobs=4)]: Done  63 out of  67 | elapsed:    0.1s remaining:    0.0s\n",
      "[Parallel(n_jobs=4)]: Done  64 out of  67 | elapsed:    0.1s remaining:    0.0s\n",
      "[Parallel(n_jobs=4)]: Done  65 out of  67 | elapsed:    0.1s remaining:    0.0s\n",
      "[Parallel(n_jobs=4)]: Done  67 out of  67 | elapsed:    0.1s finished\n",
      "... Operation performed in 0.136 s\n",
      "...DONE!\n"
     ]
    }
   ],
   "source": [
    "fwhm=[3,3,3] if structure ==\"brain\" else [1,1,1]\n",
    "alff_files,zalff_files=alff.compute_alff_maps(fwhm=fwhm,scaling_method=\"zscore\",redo=False,n_jobs=4)"
   ]
  },
  {
   "cell_type": "markdown",
   "id": "e11209d1-f046-4c43-b8bf-6d90d3a013db",
   "metadata": {},
   "source": [
    "## <font color=#B2D732> <span style=\"background-color: #4424D6\"> 2. ALFF ROI analyses"
   ]
  },
  {
   "cell_type": "markdown",
   "id": "fc963aa9",
   "metadata": {},
   "source": [
    "### A. Compute values per ROI\n",
    "- within gm mask"
   ]
  },
  {
   "cell_type": "code",
   "execution_count": 30,
   "id": "9e047f68-132c-4e7f-bee2-e5bd7f04111b",
   "metadata": {},
   "outputs": [
    {
     "name": "stdout",
     "output_type": "stream",
     "text": [
      "ALFF IN ROIS\n"
     ]
    }
   ],
   "source": [
    "alff_df={}\n",
    "\n",
    "if structure ==\"brain\":\n",
    "    atlas={\"schaefer200_cobra\":\"schaefer200_cobra\"}\n",
    "    template_dir=config[\"project_dir\"] + \"/templates/MNI/atlas/\"\n",
    "    tag_sup=\"/\"\n",
    "else:\n",
    "    atlas={\"levels\":\"_\"}\n",
    "    template_dir=config[\"project_dir\"] + \"/templates/PAM50/atlas/Frostell\"\n",
    "    tag_sup=\"28Parcels_7Networks/Frostell\"\n",
    "\n",
    "#---- Load image and label file\n",
    "for tag_nb, tag in enumerate(atlas):\n",
    "    atlas_f=glob.glob(template_dir+atlas[tag]+tag_sup+atlas[tag]+\"*.nii.gz\")[0]\n",
    "    atlas_labels=glob.glob(template_dir+atlas[tag]+tag_sup+atlas[tag]+\"*.txt\")[0]\n",
    "    labelslist=np.genfromtxt(atlas_labels, usecols=1,skip_header=1, dtype=\"S\", delimiter=\"\\t\", encoding=None).astype(str)\n",
    "    labelsnb=np.genfromtxt(atlas_labels, usecols=0,skip_header=1, dtype=\"S\", delimiter=\"\\t\", encoding=None).astype(str)\n",
    "    alff_df[tag]=alff.extract_alff_rois(input_f=alff_files,atlas_f=atlas_f,atlas_labels=labelslist,atlas_labels_nb=labelsnb,tag=\"_\" + tag,redo=False,plot=False,verbose=0)\n",
    "\n"
   ]
  },
  {
   "cell_type": "code",
   "execution_count": 29,
   "id": "7322cb8f-e679-4be4-80f5-87a51ff94d6f",
   "metadata": {},
   "outputs": [
    {
     "data": {
      "text/plain": [
       "'/cerebro/cerebro1/dataset//templates/PAM50/template/PAM50_gm_01bin_C1C7.nii.gz'"
      ]
     },
     "execution_count": 29,
     "metadata": {},
     "output_type": "execute_result"
    }
   ],
   "source": [
    "atlas_f"
   ]
  },
  {
   "cell_type": "code",
   "execution_count": null,
   "id": "e67a6646-257c-4baa-bdc4-865bbf541866",
   "metadata": {},
   "outputs": [],
   "source": []
  }
 ],
 "metadata": {
  "kernelspec": {
   "display_name": "Python 3 (ipykernel)",
   "language": "python",
   "name": "python3"
  },
  "language_info": {
   "codemirror_mode": {
    "name": "ipython",
    "version": 3
   },
   "file_extension": ".py",
   "mimetype": "text/x-python",
   "name": "python",
   "nbconvert_exporter": "python",
   "pygments_lexer": "ipython3",
   "version": "3.10.14"
  }
 },
 "nbformat": 4,
 "nbformat_minor": 5
}
