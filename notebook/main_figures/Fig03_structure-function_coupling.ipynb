{
 "cells": [
  {
   "cell_type": "markdown",
   "id": "d8b791ec-aecc-49fc-a17e-064496c8b5b8",
   "metadata": {},
   "source": [
    "# <font color=black> Figure 3 Spinal cord func / morphometry coupling </font>\n",
    "<hr style=\"border:1px solid black\">\n"
   ]
  },
  {
   "cell_type": "markdown",
   "id": "54f034ec",
   "metadata": {},
   "source": [
    "### Imports"
   ]
  },
  {
   "cell_type": "code",
   "execution_count": 25,
   "id": "6731b587",
   "metadata": {
    "scrolled": true
   },
   "outputs": [
    {
     "name": "stdout",
     "output_type": "stream",
     "text": [
      "The autoreload extension is already loaded. To reload it, use:\n",
      "  %reload_ext autoreload\n"
     ]
    }
   ],
   "source": [
    "import sys,json\n",
    "import glob, os\n",
    "import pandas as pd\n",
    "import numpy as np\n",
    "\n",
    "#statistics\n",
    "from brsc_statistics import Statistics \n",
    "from scipy.stats import spearmanr\n",
    "\n",
    "main_dir=\"/cerebro/cerebro1/dataset/bmpd/derivatives/Aging_project/2025_brsc_aging_project\"\n",
    "sys.path.append(main_dir + \"/code/\")\n",
    "\n",
    "# Plotting\n",
    "from plotting import Plotting\n",
    "\n",
    "%matplotlib inline\n",
    "%load_ext autoreload\n",
    "%autoreload 2\n",
    "\n",
    "# Load config file ------------------------------------------------------------\n",
    "config_file=main_dir + '/config/analyses/brsc_sfc.json'\n",
    "with open(config_file) as config_f: # the notebook should be in 'xx/notebook/' folder #config_proprio\n",
    "    config = json.load(config_f) # load config file should be open first and the path inside modified\n",
    "\n",
    "plot=Plotting(config_file,\"test\")\n",
    "stat_func=Statistics(config=config,ana_dir=\"\",analysis=\"\")\n",
    "\n",
    "metadata = pd.read_csv(config[\"project_dir\"] + config[\"population_infos\"], delimiter='\\t')\n"
   ]
  },
  {
   "cell_type": "markdown",
   "id": "0160397b-101f-4c47-9e68-5dc196ea2b15",
   "metadata": {},
   "source": [
    "<hr style=\"border:1px solid black\">\n",
    "\n",
    "### <font color=#0B7CC3> A. Load data and initiate variables\n",
    "#### <font color=#0B7CC3> A.1 Matrices (similarity and FC)\n"
   ]
  },
  {
   "cell_type": "code",
   "execution_count": 11,
   "id": "484c2ab3-e97b-4dbe-98b3-4c7508de0927",
   "metadata": {},
   "outputs": [],
   "source": [
    "files={};matrix={};df_matrix_all={};df_matrix_aging={};age=[];sex=[]\n",
    "\n",
    "#---- Initiate variables\n",
    "common_ids = sorted(set(config[\"participants_IDs_DWI\"]) & set(config[\"participants_IDs_MTR\"]) & set(config[\"participants_IDs_T2s\"]))\n",
    "excluded_rois = [\"C1_RV\", \"C1_RD\", \"C1_LV\", \"C1_LD\"]\n",
    "sub_metrics={\"MTR\":[\"MTR\"],\"T2s\":[\"gm\",\"wm\"],\"DWI\":[\"FA\",\"RD\",\"AD\",\"MD\"]}\n",
    "\n",
    "for modality in [\"func_tp\",\"func_fc\",\"structural\"]:\n",
    "    #----- Load indiv data\n",
    "    files[modality]=[];matrix[modality]=[]\n",
    "    for ID_nb, ID in enumerate(common_ids):\n",
    "        files[modality].append(glob.glob(config[\"project_dir\"] + config[modality][\"analysis_dir\"][\"spinalcord\"] + config[modality][\"first_level\"][\"global\"].format(ID))[0])\n",
    "        matrix[modality].append(np.array(pd.read_csv(files[modality][ID_nb],header=None)))\n",
    "\n",
    "        if modality==\"func_tp\":\n",
    "            age.append(metadata[metadata[\"participant_id\"] == ID][\"age\"].values[0])\n",
    "            sex.append(metadata[metadata[\"participant_id\"] == ID][\"sex\"].values[0])\n",
    "    matrix[modality] =np.array( matrix[modality]) \n",
    "    \n",
    "    #---- Load group data and filter the dataframe\n",
    "    df_matrix_all[modality]=pd.read_csv(glob.glob(config[\"project_dir\"] + config[modality][\"analysis_dir\"][\"spinalcord\"] + config[modality][\"second_level_matrix\"])[0])\n",
    "    df_matrix_all[modality]=df_matrix_all[modality][df_matrix_all[modality][\"IDs\"].isin(common_ids)]\n",
    "    df_matrix_aging[modality]=pd.read_csv(glob.glob(config[\"project_dir\"] + config[modality][\"analysis_dir\"][\"spinalcord\"] + config[modality][\"second_level_matrix_age\"])[0])\n",
    "    df_matrix_aging[modality]=df_matrix_aging[modality][df_matrix_aging[modality][\"IDs\"].isin(common_ids)]\n",
    "    \n",
    "        \n",
    "df_matrix_all[\"func_tp\"] = df_matrix_all[\"func_tp\"][~df_matrix_all[\"func_tp\"][\"seed1\"].isin(excluded_rois) & ~df_matrix_all[\"func_tp\"][\"seed2\"].isin(excluded_rois)].reset_index(drop=True)\n",
    "df_matrix_all[\"func_fc\"]= df_matrix_all[\"func_fc\"][~df_matrix_all[\"func_fc\"][\"seed1\"].isin(excluded_rois) & ~df_matrix_all[\"func_fc\"][\"seed2\"].isin(excluded_rois)].reset_index(drop=True)\n",
    "df_matrix_aging[\"func_tp\"] = df_matrix_aging[\"func_tp\"][~df_matrix_aging[\"func_tp\"][\"seed1\"].isin(excluded_rois) & ~df_matrix_aging[\"func_tp\"][\"seed2\"].isin(excluded_rois)].reset_index(drop=True)\n",
    "df_matrix_aging[\"func_fc\"]= df_matrix_aging[\"func_fc\"][~df_matrix_aging[\"func_fc\"][\"seed1\"].isin(excluded_rois) & ~df_matrix_aging[\"func_fc\"][\"seed1\"].isin(excluded_rois)].reset_index(drop=True)\n",
    "\n",
    "# ----- Grouped all matrix in the same DF\n",
    "all_df=df_matrix_all[\"func_tp\"];all_df[\"fc\"]=df_matrix_all[\"func_fc\"][\"fcorr\"];all_df[\"struc\"]=df_matrix_all[\"structural\"][\"sim\"]\n",
    "all_df[\"rois\"] = all_df[\"seed1\"] + \"_\" + all_df[\"seed2\"]\n",
    "aging_df=df_matrix_aging[\"func_tp\"];aging_df[\"fc\"]=df_matrix_aging[\"func_fc\"][\"fcorr\"];aging_df[\"struc\"]=df_matrix_aging[\"structural\"][\"sim\"]\n",
    "aging_df[\"rois\"] = aging_df[\"seed1\"] + \"_\" + aging_df[\"seed2\"]\n",
    "\n"
   ]
  },
  {
   "cell_type": "markdown",
   "id": "d35475df-5077-4f38-9cd1-00cf471ba2db",
   "metadata": {},
   "source": [
    "#### <font color=#0B7CC3> A.2 Load features values (structural and functional)"
   ]
  },
  {
   "cell_type": "code",
   "execution_count": 13,
   "id": "ac2efe52-537e-4e72-b025-639e99eb1590",
   "metadata": {},
   "outputs": [],
   "source": [
    "df_metrics_all={};df_metrics_reduced={};structural_features=[]\n",
    "for modality in [\"func_tp\",\"func_fc\",\"structural\"]:\n",
    "    \n",
    "    #---- Load group data and filter the dataframe\n",
    "    if modality != \"structural\":\n",
    "        df_metrics_all[modality]=pd.read_csv(glob.glob(config[\"project_dir\"] + config[modality][\"analysis_dir\"][\"spinalcord\"] + config[modality][\"second_level_metrics\"])[0])\n",
    "        df_metrics_all[modality] = df_metrics_all[modality][df_metrics_all[modality][\"IDs\"].isin(common_ids)]\n",
    "        \n",
    "        if modality==\"func_tp\":\n",
    "            df_metrics_all[modality] = df_metrics_all[modality][~df_metrics_all[modality][\"rois\"].isin(excluded_rois)].reset_index(drop=True)\n",
    "            functional_features = df_metrics_all[modality].columns[np.r_[8:11,12:19,20:33]] # select feature columns\n",
    "        else:\n",
    "            df_metrics_all[modality] = df_metrics_all[modality][~df_metrics_all[modality][\"seed1\"].isin(excluded_rois) &~df_metrics_all[modality][\"seed2\"].isin(excluded_rois)].reset_index(drop=True)\n",
    "            df_metrics_all[modality]=df_metrics_all[\"func_fc\"].groupby([\"IDs\",\"group\",\"age\",\"sex\",\"labels1\",\"level_labels\"])[\"fcorr\"].mean().reset_index()\n",
    "            df_metrics_all[modality]=df_metrics_all[\"func_fc\"][df_metrics_all[\"func_fc\"][\"labels1\"].isin([\"ventral\",\"dorsal\"])].reset_index(drop=True)\n",
    "\n",
    "    else:\n",
    "        for metric in [\"MTR\",\"T2s\",\"DWI\"]:\n",
    "            for sub_metric in sub_metrics[metric]:\n",
    "                structural_features.append(sub_metric) # select feature columns\n",
    "                df_metrics_all[modality + \"_\" + sub_metric]=pd.read_csv(glob.glob(config[\"project_dir\"] + config[modality][\"analysis_dir\"][\"spinalcord\"] + config[modality][\"second_level_metrics\"][metric][sub_metric])[0])\n",
    "                df_metrics_all[modality + \"_\" + sub_metric] = df_metrics_all[modality + \"_\" + sub_metric][df_metrics_all[modality + \"_\" + sub_metric][\"IDs\"].isin(common_ids)]\n",
    "                df_metrics_all[modality + \"_\" + sub_metric] = df_metrics_all[modality + \"_\" + sub_metric][~df_metrics_all[modality + \"_\" + sub_metric][\"rois\"].isin(excluded_rois)].reset_index(drop=True)\n",
    "     \n",
    "                #---- Group structural metrics in a single DF    \n",
    "                if metric==\"MTR\":\n",
    "                    df_metrics_all[\"structural\"]=df_metrics_all[\"structural_MTR\"]\n",
    "                elif metric==\"T2s\":\n",
    "                    df_metrics_all[\"structural\"][sub_metric]=df_metrics_all[modality + \"_\" + sub_metric][\"T2s_vx_\" + sub_metric]\n",
    "                else:\n",
    "                    df_metrics_all[\"structural\"][sub_metric]=df_metrics_all[modality + \"_\" + sub_metric][sub_metric]\n",
    "                \n",
    "\n",
    "#----- merge structural and functional df\n",
    "df_metrics_merged_VD=[]\n",
    "df_metrics_merged = pd.merge(df_metrics_all[\"structural\"], df_metrics_all[\"func_tp\"], on=[\"IDs\",\"age\",\"sex\" ,\"groups\",\"rois\",\"ventro_dorsal\",\"right_left\",\"levels\"], suffixes=(\"_struc\", \"_func\"))\n",
    "df_metrics_merged_VD=df_metrics_merged.groupby([\"IDs\",\"age\",\"sex\",\"ventro_dorsal\",\"levels\"])[list(structural_features) + list(functional_features)].mean().reset_index()\n",
    "df_metrics_merged_VD[\"fc\"]=df_metrics_all[\"func_fc\"][\"fcorr\"]\n",
    "df_metrics_merged_VD[\"rois\"] = df_metrics_merged_VD[\"ventro_dorsal\"] + \"_\" + df_metrics_merged_VD[\"levels\"]\n",
    "\n",
    "#--- Reduce the df by one value / participant\n",
    "df_metrics_merged_reduced=[];df_metrics_merged_VD_reduced=[]\n",
    "df_metrics_merged_reduced=df_metrics_merged.groupby([\"rois\"])[list(structural_features) + list(functional_features)].mean().reset_index()\n",
    "#df_metrics_merged_VD_reduced=df_metrics_merged_VD.groupby([\"ventro_dorsal\",\"levels\"])[structural_features + functional_features.tolist() + ['fc']].mean().reset_index()\n",
    "df_metrics_merged_VD_reduced=df_metrics_merged_VD.groupby([\"ventro_dorsal\",\"levels\"])[list(structural_features) + list(functional_features) + ['fc']].mean().reset_index()\n",
    "df_metrics_merged_VD_reduced[\"rois\"]=df_metrics_merged_VD_reduced[\"ventro_dorsal\"] + \"_\" + df_metrics_merged_VD_reduced[\"levels\"]\n"
   ]
  },
  {
   "cell_type": "markdown",
   "id": "4670d2f9-5902-415b-b34f-f6e48cd4d25a",
   "metadata": {},
   "source": [
    "<hr style=\"border:1px solid black\">\n",
    "\n",
    "### <font color=#0B7CC3> A. Structural and functional coupling\n",
    "\n"
   ]
  },
  {
   "cell_type": "markdown",
   "id": "8248dfd6-7ec4-4fcd-94cf-0ac64c44ba41",
   "metadata": {},
   "source": [
    "#### <font color=#0896ae>A.1  SpiMorpho & SpiFC coupling"
   ]
  },
  {
   "cell_type": "code",
   "execution_count": null,
   "id": "b32c5058-0702-41ef-acbb-e5b33ea119fe",
   "metadata": {},
   "outputs": [],
   "source": [
    "output_dir=config[\"project_dir\"] + config[\"coupling\"][\"analysis_dir\"][\"spinalcord\"] \n",
    "df_SpiFC_SpiMorpho,data_SpiFC_SpiMorpho=stat_func.compute_regional_coupling(IDs=common_ids,matrix1=matrix[\"func_fc\"][:, 4:, 4:],matrix2=matrix[\"structural\"][:, :, :],metrics=[\"SpiFC\",\"SpiMorpho\"],df_out=True,metadata_df=metadata)\n",
    "r_value, p_value = spearmanr(data_SpiFC_SpiMorpho['SpiFC'], data_SpiFC_SpiMorpho[\"SpiMorpho\"])\n",
    "print(r_value); print(p_value)\n",
    "plot.regplots(df=data_SpiFC_SpiMorpho,x_data=\"SpiFC\",y_data=\"SpiMorpho\",reg_color=\"#000000\",x_color=\"#04AF98\",y_color=\"#0B7CC3\",\n",
    "             save=False,output_f=output_dir + \"/SpiMorpho_SpiFC_coupling\")"
   ]
  },
  {
   "cell_type": "markdown",
   "id": "30dce820-a992-4d4a-9f96-7c333d145aa8",
   "metadata": {},
   "source": [
    "#### <font color=#5e5f93>A.2  Morpho similarity & Temporal profile similarity coupling"
   ]
  },
  {
   "cell_type": "code",
   "execution_count": null,
   "id": "e6fd7a33-df86-4247-ad57-47b204647b7d",
   "metadata": {},
   "outputs": [],
   "source": [
    "df_SpiDyn_SpiMorpho,data_SpiDyn_SpiMorpho=stat_func.compute_regional_coupling(IDs=common_ids,matrix1=matrix[\"func_tp\"][:, 4:, 4:],matrix2=matrix[\"structural\"][:, :, :],metrics=[\"SpiDyn\",\"SpiMorpho\"],df_out=True,metadata_df=metadata)\n",
    "r_value, p_value = spearmanr(data_SpiDyn_SpiMorpho['SpiDyn'], data_SpiDyn_SpiMorpho[\"SpiMorpho\"])\n",
    "print(r_value); print(p_value)\n",
    "plot.regplots(df=data_SpiDyn_SpiMorpho,x_data=\"SpiDyn\",y_data=\"SpiMorpho\",reg_color=\"#000000\",x_color=\"#B14263\",y_color=\"#0B7CC3\",\n",
    "             save=False,output_f=output_dir + \"/SpiMorpho_SpiDyn_coupling\")"
   ]
  },
  {
   "cell_type": "markdown",
   "id": "fbee8076-f1cd-41e4-88ec-1966c0623423",
   "metadata": {},
   "source": [
    "### <font color=#0B7CC3> B. Global Age-related effect\n"
   ]
  },
  {
   "cell_type": "markdown",
   "id": "56f21a95-3775-4b34-a8b3-0341689d64c3",
   "metadata": {},
   "source": [
    "#### <font color=#0896ae>B.1  Morpho & FC coupling age-related effect"
   ]
  },
  {
   "cell_type": "code",
   "execution_count": null,
   "id": "0ee174dd-1c43-4e57-98d2-b61ef89b8d76",
   "metadata": {},
   "outputs": [],
   "source": [
    "roi_results_fc=[];roi_results_sim=[]\n",
    "\n",
    "for roi in all_df[\"rois\"].unique():\n",
    "    df_roi_metrics=all_df[all_df[\"rois\"]==roi]\n",
    "    signed_r2, p_age, p_sex, beta_age, beta_sex, stat_age, stat_sex=stat_func.signed_partial_r2(df=df_roi_metrics,y=\"fc\",predictor=\"age\",covariates=[\"sex\"])\n",
    "    roi_results_fc.append({\"rois\":roi,\"signed_r2\": signed_r2,\"p_age\": p_age,\"beta_age\": beta_age,\"beta_sex\": beta_sex,\"tvalue_age\": stat_age,\"tvalue_sex\": stat_sex})\n",
    "    \n",
    "    signed_r2, p_age, p_sex, beta_age, beta_sex, stat_age, stat_sex=stat_func.signed_partial_r2(df=df_roi_metrics,y=\"struc\",predictor=\"age\",covariates=[\"sex\"])\n",
    "    roi_results_sim.append({\"rois\":roi,\"signed_r2\": signed_r2,\"p_age\": p_age,\"beta_age\": beta_age,\"beta_sex\": beta_sex,\"tvalue_age\": stat_age,\"tvalue_sex\": stat_sex})\n",
    "    \n",
    "    roi_results_fc_df= pd.DataFrame(roi_results_fc)\n",
    "    roi_results_sim_df= pd.DataFrame(roi_results_sim)\n",
    "    \n",
    "    all_age_eff=pd.DataFrame({\"rois\":roi_results_fc_df[\"rois\"],\n",
    "            \"r2_SpiFC\":roi_results_fc_df[\"tvalue_age\"],\n",
    "            \"r2_SpiMorpho\":roi_results_sim_df[\"tvalue_age\"]})\n",
    "\n",
    "\n",
    "r_value, p_value = spearmanr(all_age_eff[\"r2_SpiFC\"], all_age_eff[\"r2_SpiMorpho\"])\n",
    "print(r_value); print(p_value)\n",
    "\n",
    "plot.regplots(df=all_age_eff,x_data=\"r2_SpiFC\",y_data=\"r2_SpiMorpho\",reg_color=\"#000000\",x_color=\"#04AF98\",y_color=\"#0B7CC3\"\n",
    "              ,ymin=-4, ymax=4,xmin=-3, xmax=4.5,\n",
    "             save=False,output_f=output_dir + \"/morpho_fc_coupling_age\")\n"
   ]
  },
  {
   "cell_type": "code",
   "execution_count": null,
   "id": "cf5094e6-8961-4988-a231-8a87b0a147da",
   "metadata": {},
   "outputs": [],
   "source": [
    "roi_results_fc=[];roi_results_sim=[]\n",
    "\n",
    "for roi in aging_df[\"rois\"].unique():\n",
    "    df_roi_metrics=aging_df[aging_df[\"rois\"]==roi]\n",
    "    signed_r2, p_age, p_sex, beta_age, beta_sex, stat_age, stat_sex=stat_func.signed_partial_r2(df=df_roi_metrics,y=\"sim\",predictor=\"age\",covariates=[\"sex\"])\n",
    "    roi_results_fc.append({\"rois\":roi,\"signed_r2\": signed_r2,\"p_age\": p_age,\"beta_age\": beta_age,\"beta_sex\": beta_sex,\"tvalue_age\": stat_age,\"tvalue_sex\": stat_sex})\n",
    "    \n",
    "    signed_r2, p_age, p_sex, beta_age, beta_sex, stat_age, stat_sex=stat_func.signed_partial_r2(df=df_roi_metrics,y=\"struc\",predictor=\"age\",covariates=[\"sex\"])\n",
    "    roi_results_sim.append({\"rois\":roi,\"signed_r2\": signed_r2,\"p_age\": p_age,\"beta_age\": beta_age,\"beta_sex\": beta_sex,\"tvalue_age\": stat_age,\"tvalue_sex\": stat_sex})\n",
    "    \n",
    "    roi_results_fc_df= pd.DataFrame(roi_results_fc)\n",
    "    roi_results_sim_df= pd.DataFrame(roi_results_sim)\n",
    "    \n",
    "    all_age_eff=pd.DataFrame({\"rois\":roi_results_fc_df[\"rois\"],\n",
    "            \"r2_SpiDyn\":roi_results_fc_df[\"tvalue_age\"],\n",
    "            \"r2_SpiMorpho\":roi_results_sim_df[\"tvalue_age\"]})\n",
    "\n",
    "\n",
    "r_value, p_value = spearmanr(all_age_eff[\"r2_SpiDyn\"], all_age_eff[\"r2_SpiMorpho\"])\n",
    "print(r_value); print(p_value)\n",
    "\n",
    "\n",
    "plot.regplots(df=all_age_eff,x_data=\"r2_SpiDyn\",y_data=\"r2_SpiMorpho\",reg_color=\"#000000\",x_color=\"#B14263\",y_color=\"#0B7CC3\"\n",
    "              , ymin=-4, ymax=4,xmin=-4, xmax=4.5,\n",
    "             save=False,output_f=output_dir + \"/morpho_TPS_coupling_age\")\n"
   ]
  }
 ],
 "metadata": {
  "kernelspec": {
   "display_name": "Python 3 (ipykernel)",
   "language": "python",
   "name": "python3"
  },
  "language_info": {
   "codemirror_mode": {
    "name": "ipython",
    "version": 3
   },
   "file_extension": ".py",
   "mimetype": "text/x-python",
   "name": "python",
   "nbconvert_exporter": "python",
   "pygments_lexer": "ipython3",
   "version": "3.10.14"
  }
 },
 "nbformat": 4,
 "nbformat_minor": 5
}
