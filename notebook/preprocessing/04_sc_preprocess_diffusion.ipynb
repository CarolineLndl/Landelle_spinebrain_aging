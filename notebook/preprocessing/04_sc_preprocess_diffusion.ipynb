{
 "cells": [
  {
   "cell_type": "markdown",
   "metadata": {},
   "source": [
    "# <font color=#B2D732> <span style=\"background-color: #4424D6\"> Spinal cord diffusion preprocessings </font>\n",
    "<hr style=\"border:1px solid black\">  \n",
    "\n",
    "*Project: 2024_brsc_aging_project*  \n",
    "*Paper: in prep*  \n",
    "**@ author:** \n",
    "> Caroline Landelle, caroline.landelle@mcgill.ca // landelle.caroline@gmail.com   \n",
    "> June 2024 (last update: 11 April 2025)\n",
    "\n",
    "**Description:** \n",
    "> This notebook provides code for diffusion MRI data of spinal cord acquisition.\n",
    "> The second line of the section \"imports & configuration\" of this notebook should be modify with the good path \n",
    "\n",
    "\n",
    "**Associated files:**\n",
    "> - ../../config/diffusion/01_sc_preprocess_diffusion.json ; This file contains the directories and should be modified first\n",
    "> - ../../config/participants_brsc_*.tsv ; this file contains the information about the participants and should be updated after each new acquisition\n",
    "> - ../brsc_preprocess.py ; Nothing should be changed in this file\n",
    "> - ../BrSc_utils.py; Nothing should be changed in this file\n",
    "> - You need to copy the version sct6.1 of the template and atlas that include spinal segmental levels + WM tracts and put the path in the config file \"PAM50_sct_dir\":\".../template_sct6.1\",\n",
    " \n",
    "\n",
    "**Steps:**\n",
    "> **I. DWI image preparation**    \n",
    "> **II. Segmentation**    \n",
    "> **III. Motion correction**   \n",
    "<hr style=\"border:1px solid black\">\n",
    "\n"
   ]
  },
  {
   "cell_type": "markdown",
   "metadata": {},
   "source": [
    "## <font color=#dd9c07>  Imports & configuration </font >"
   ]
  },
  {
   "cell_type": "code",
   "execution_count": 1,
   "metadata": {},
   "outputs": [
    {
     "name": "stdout",
     "output_type": "stream",
     "text": [
      "/cerebro/cerebro1/dataset//stratals/rawdata//sub-A006_test//dwi/sub-A006_test_dwi.nii.gz\n"
     ]
    }
   ],
   "source": [
    "import sys, json, glob, os, shutil\n",
    "code_dir=\"/cerebro/cerebro1/dataset/bmpd/derivatives/Aging_project/2025_brsc_aging_project/\"\n",
    "os.chdir(code_dir)\n",
    "sys.path.append(code_dir + \"/code/\") # Change this line according to your directory\n",
    "\n",
    "from brsc_preprocess import Preprocess_Sc\n",
    "from brsc_preprocess import Preprocess_DWI_Sc\n",
    "\n",
    "\n",
    "#\n",
    "%load_ext autoreload\n",
    "%autoreload 2\n",
    "%matplotlib inline\n",
    "    \n",
    "# Load config file ------------------------------------------------------------\n",
    "# The config file should be first review and all path should be modified (lines: )\n",
    "with open(code_dir + '/config/preprocessing/03_sc_preprocess_microstructural.json') as config_file: # the notebook should be in 'xx/notebook/' folder #config_proprio\n",
    "    config = json.load(config_file) # load config file should be open first and the path inside modified\n",
    "\n",
    "config[\"participants_IDs\"]=config[\"participants_IDs_DWI\"]\n",
    "dwi=Preprocess_DWI_Sc(config) # initialize the function\n",
    "preprocess_Sc=Preprocess_Sc(config) # initialize the function\n"
   ]
  },
  {
   "cell_type": "markdown",
   "metadata": {},
   "source": [
    "<hr style=\"border:1px solid black\">\n",
    "\n",
    "### <font color=#dd9c07> I. Separate B0 and DWI volumes </font>"
   ]
  },
  {
   "cell_type": "code",
   "execution_count": 2,
   "metadata": {},
   "outputs": [
    {
     "name": "stdout",
     "output_type": "stream",
     "text": [
      "DWI and b0 images separation was already done for sub-A006_test\n"
     ]
    }
   ],
   "source": [
    "dwi_files=dwi.separate_b0_dwi(redo=False,verbose=True)"
   ]
  },
  {
   "cell_type": "markdown",
   "metadata": {},
   "source": [
    "### <font color=#dd9c07> II. Motion correction </font>"
   ]
  },
  {
   "cell_type": "markdown",
   "metadata": {},
   "source": [
    "##### Segment the mean dwi image to initiate the coarse image for moco"
   ]
  },
  {
   "cell_type": "code",
   "execution_count": 3,
   "metadata": {},
   "outputs": [
    {
     "name": "stdout",
     "output_type": "stream",
     "text": [
      "DWI segmentation was already done for sub-A006_test\n"
     ]
    }
   ],
   "source": [
    "seg_files=dwi.segmentation(i_files=dwi_files[\"dwi_mean\"],redo=False,verbose=True)"
   ]
  },
  {
   "cell_type": "markdown",
   "metadata": {},
   "source": [
    "##### Run moco"
   ]
  },
  {
   "cell_type": "code",
   "execution_count": 4,
   "metadata": {},
   "outputs": [
    {
     "name": "stdout",
     "output_type": "stream",
     "text": [
      "DWI motion correction was already done for sub-A006_test\n"
     ]
    }
   ],
   "source": [
    "moco_files=dwi.moco(seg_files=seg_files,redo=False,verbose=True)"
   ]
  },
  {
   "cell_type": "markdown",
   "metadata": {},
   "source": [
    "### <font color=#dd9c07> III. Segmentation </font>"
   ]
  },
  {
   "cell_type": "code",
   "execution_count": 5,
   "metadata": {},
   "outputs": [
    {
     "name": "stdout",
     "output_type": "stream",
     "text": [
      "DWI segmentation was already done for sub-A006_test\n"
     ]
    }
   ],
   "source": [
    "seg_moco_files=dwi.segmentation(i_files=moco_files[\"moco_mean\"],redo=False,verbose=True)"
   ]
  },
  {
   "cell_type": "markdown",
   "metadata": {},
   "source": [
    "### <font color=#dd9c07> V. Compute diffusion tensor imaging </font>"
   ]
  },
  {
   "cell_type": "code",
   "execution_count": 6,
   "metadata": {},
   "outputs": [
    {
     "name": "stdout",
     "output_type": "stream",
     "text": [
      "DWI diffusion tensor computation was already done for sub-A006_test\n"
     ]
    }
   ],
   "source": [
    "dti_files=dwi.compute_dti(i_files=moco_files[\"moco\"],redo=False,verbose=True)"
   ]
  },
  {
   "cell_type": "markdown",
   "metadata": {},
   "source": [
    "### <font color=#dd9c07> IV. Coregistration to PAM50 templae </font>"
   ]
  },
  {
   "cell_type": "code",
   "execution_count": 7,
   "metadata": {},
   "outputs": [
    {
     "name": "stdout",
     "output_type": "stream",
     "text": [
      ">>>>> Registration between func image and PAM50 already exists for sub-A006_test\n",
      " \n",
      "Tranformation was already applied put redo=True to redo that step\n",
      "Tranformation was already applied put redo=True to redo that step\n",
      "Tranformation was already applied put redo=True to redo that step\n",
      "Tranformation was already applied put redo=True to redo that step\n"
     ]
    }
   ],
   "source": [
    "coreg_dir=[];dwi2PAM50=[];dwi2PAM50_dirs=[];o_warp_imgs=[];o_warpinv_imgs=[]\n",
    "warpT1w_PAM50_files=[]; warpPAM50_T1w_files=[]\n",
    "for ID_nb, ID in enumerate(config[\"participants_IDs\"]):\n",
    "    \n",
    "    # output directory\n",
    "    coreg_dir.append(os.path.dirname(dwi_files['dwi'][ID_nb]) + \"/coregistration/\")\n",
    "    if not os.path.exists(coreg_dir[ID_nb]):\n",
    "        os.mkdir(coreg_dir[ID_nb])\n",
    "\n",
    "    # Load T1toPAM50warping field\n",
    "    preprocess_dir=config[\"main_dir\"]+ config[\"preprocess_dir\"][\"bmpd_dir\"] if ID[0]==\"P\" else config[\"main_dir\"] +config[\"preprocess_dir\"][\"main_dir\"]\n",
    "    \n",
    "    warpT1w_PAM50_files.append(glob.glob(preprocess_dir + \"sub-\" + ID + \"/anat/\"+ config[\"preprocess_dir\"][\"T1w_sc_coreg\"] + \"*from-T1w_to-PAM50*\")[0])\n",
    "    warpPAM50_T1w_files.append(glob.glob(preprocess_dir + \"sub-\" + ID + \"/anat/\"+ config[\"preprocess_dir\"][\"T1w_sc_coreg\"] + \"*from-PAM50_to-T1w*\")[0])\n",
    "\n",
    "    # Coregister moco\n",
    "    dwi2PAM50.append(preprocess_Sc.coreg_img2PAM50(ID=ID,\n",
    "                                            i_img=moco_files[\"moco_mean\"][ID_nb],\n",
    "                                            i_seg=seg_moco_files[ID_nb],\n",
    "                                            PAM50_cord=config[\"tools_dir\"][\"main_codes\"] +config[\"PAM50_cord\"],\n",
    "                                            PAM50_t2=config[\"tools_dir\"][\"main_codes\"] +config[\"PAM50_t1\"],#coreg_type=\"centermass\",\n",
    "                                            ses_name=config[\"design_exp\"][\"ses_names\"][0],\n",
    "                                            o_folder=coreg_dir[ID_nb],\n",
    "                                            initwarp=warpT1w_PAM50_files[ID_nb],initwarpinv=warpPAM50_T1w_files[ID_nb],\n",
    "                                            img_type=\"dwi\",\n",
    "                                            redo=False,verbose=True))\n",
    "\n",
    "\n",
    "    # wrap PAM50 files into DWI space, this step requiered the v6.1 of the template to include the segmental levels (config[\"PAM50_sct_dir\"])\n",
    "    if not os.path.exists(dwi2PAM50[ID_nb][0] + \"/template/PAM50_cord.nii.gz\"):\n",
    "        string=f\"sct_warp_template -d {moco_files['moco_mean'][ID_nb]} -w {dwi2PAM50[ID_nb][2]} -a 1 -ofolder {dwi2PAM50[ID_nb][0]} -t {config['PAM50_sct_dir']}\"\n",
    "        os.system(string)\n",
    "        # add home made atlas (spinal levels from icaps)) \n",
    "        function=\"/cerebro/cerebro1/dataset/bmpd/derivatives/thibault_test/code/toolbox/spinalcordtoolbox-5.6.0/bin/isct_antsApplyTransforms\"\n",
    "        for atlas in [\"_\" , \"_gm\",\"_wm\"]:\n",
    "            string=function + \" -d 3 -i \" +config[\"PAM50_sct_dir\"] + \"/template/PAM50_Frostell\"+atlas+\"28Parcels_7Networks.nii.gz -o \" +dwi2PAM50[ID_nb][0] +\"/template/PAM50_Frostell\"+atlas+\"28Parcels_7Networks.nii.gz -t \" + dwi2PAM50[ID_nb][2] +\" -r \" +moco_files['moco_mean'][ID_nb] + \" -n NearestNeighbor\"\n",
    "            \n",
    "        \n",
    "        for wm_atlas in [\"3tracts\"]:\n",
    "            string=function + \" -d 3 -i \" +config[\"PAM50_sct_dir\"] + \"/template/PAM50_wm_atlas_\"+wm_atlas+\".nii.gz -o \" +dwi2PAM50[ID_nb][0] +\"/template/PAM50_wm_atlas_\"+wm_atlas+\".nii.gz -t \" + dwi2PAM50[ID_nb][2] +\" -r \" +moco_files['moco_mean'][ID_nb]  + \" -n NearestNeighbor\"\n",
    "        \n",
    "        os.system(string)\n",
    "\n",
    "    \n",
    "    # Coregister DTI files\n",
    "    for metric in [\"FA\",\"MD\",\"RD\",\"AD\"]:\n",
    "        preprocess_Sc.apply_warp(i_img=dti_files[metric][ID_nb],\n",
    "                                 ID=ID,\n",
    "                   o_folder=os.path.dirname(dti_files[metric][ID_nb]) +\"/\",\n",
    "                   dest_img=config[\"tools_dir\"][\"main_codes\"] + config[\"PAM50_t1\"],\n",
    "                   warping_field=warpT1w_PAM50_files[ID_nb],\n",
    "                   tag='_inPAM50',redo=False,verbose=True,n_jobs=1)\n",
    "    "
   ]
  },
  {
   "cell_type": "code",
   "execution_count": null,
   "metadata": {},
   "outputs": [],
   "source": []
  }
 ],
 "metadata": {
  "kernelspec": {
   "display_name": "Python 3 (ipykernel)",
   "language": "python",
   "name": "python3"
  },
  "language_info": {
   "codemirror_mode": {
    "name": "ipython",
    "version": 3
   },
   "file_extension": ".py",
   "mimetype": "text/x-python",
   "name": "python",
   "nbconvert_exporter": "python",
   "pygments_lexer": "ipython3",
   "version": "3.10.14"
  },
  "varInspector": {
   "cols": {
    "lenName": 16,
    "lenType": 16,
    "lenVar": 40
   },
   "kernels_config": {
    "python": {
     "delete_cmd_postfix": "",
     "delete_cmd_prefix": "del ",
     "library": "var_list.py",
     "varRefreshCmd": "print(var_dic_list())"
    },
    "r": {
     "delete_cmd_postfix": ") ",
     "delete_cmd_prefix": "rm(",
     "library": "var_list.r",
     "varRefreshCmd": "cat(var_dic_list()) "
    }
   },
   "oldHeight": 834,
   "position": {
    "height": "793px",
    "left": "1128px",
    "right": "20px",
    "top": "31px",
    "width": "536px"
   },
   "types_to_exclude": [
    "module",
    "function",
    "builtin_function_or_method",
    "instance",
    "_Feature"
   ],
   "varInspector_section_display": "block",
   "window_display": false
  }
 },
 "nbformat": 4,
 "nbformat_minor": 4
}
