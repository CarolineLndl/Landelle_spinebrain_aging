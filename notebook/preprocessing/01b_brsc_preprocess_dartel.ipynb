{
 "cells": [
  {
   "cell_type": "markdown",
   "metadata": {},
   "source": [
    "# <font color=#B2D732> <span style=\"background-color: #4424D6\"> Brain & Spinal Cord fMRI preprocessings </font>\n",
    "<hr style=\"border:1px solid black\">  \n",
    "\n",
    "*Project: 2024_brsc_aging_project*  \n",
    "*Paper: in prep*  \n",
    "**@ author:** \n",
    "> Caroline Landelle, caroline.landelle@mcgill.ca // landelle.caroline@gmail.com   \n",
    "> June 2024 (last update: 4 June 2024)\n",
    "\n",
    "**Description:** \n",
    "> This notebook provides code for preprocessing fMRI data of simultaneous brain and spinal cord acquisition (single FOV).   \n",
    "\n",
    "\n",
    "<hr style=\"border:1px solid black\">\n"
   ]
  },
  {
   "cell_type": "markdown",
   "metadata": {},
   "source": [
    "## <font color=#B2D732> <span style=\"background-color: #4424D6\">  Imports & configuration </font >"
   ]
  },
  {
   "cell_type": "code",
   "execution_count": null,
   "metadata": {
    "scrolled": true
   },
   "outputs": [],
   "source": [
    "import sys, json, glob, os\n",
    "import matlab.engine\n",
    "code_dir=\"/cerebro/cerebro1/dataset/bmpd/derivatives/Aging_project/2025_brsc_aging_project/\"\n",
    "os.chdir(code_dir)\n",
    "sys.path.append(code_dir + \"/code/\") # Change this line according to your directory\n",
    "\n",
    "#\n",
    "%load_ext autoreload\n",
    "%autoreload 2\n",
    "%matplotlib inline\n",
    "    \n",
    "# Load config file ------------------------------------------------------------\n",
    "# The config file should be first review and all path should be modified (lines: )\n",
    "with open(code_dir + '/config/preprocessing/01_brsc_preprocess_func.json') as config_file: # the notebook should be in 'xx/notebook/' folder #config_proprio\n",
    "    config = json.load(config_file) # load config file should be open first and the path inside modified\n"
   ]
  },
  {
   "cell_type": "markdown",
   "metadata": {},
   "source": [
    "<hr style=\"border:1px solid black\">    \n",
    "\n",
    "## <font color=#B2D732> <span style=\"background-color: #4424D6\"> I Create group template </font>\n",
    "\n"
   ]
  },
  {
   "cell_type": "code",
   "execution_count": 5,
   "metadata": {},
   "outputs": [],
   "source": [
    "os.chdir(code_dir +'/code/spm/')# need to change the directory to find the toolbox\n",
    "eng = matlab.engine.start_matlab()\n"
   ]
  },
  {
   "cell_type": "code",
   "execution_count": 12,
   "metadata": {},
   "outputs": [
    {
     "name": "stdout",
     "output_type": "stream",
     "text": [
      "Running dartel for : 67\n"
     ]
    }
   ],
   "source": [
    "seg_f={}\n",
    "\n",
    "for seg in [\"gm\",\"wm\",\"csf\"]:\n",
    "    seg_f[seg]=[]\n",
    "    \n",
    "    nb_seg = \"1\" if seg == \"gm\" else \"2\" if seg == \"wm\" else \"3\"\n",
    "    for ID_nb, ID in enumerate(config[\"participants_IDs_dartel\"]):\n",
    "        preproc_dir=config[\"main_dir\"] + config[\"preprocess_dir\"][\"bmpd_dir\"] if ID[0]==\"P\" else config[\"main_dir\"] +config[\"preprocess_dir\"][\"main_dir\"]\n",
    "        seg_f[seg].append(glob.glob(preproc_dir + \"/sub-\"+ID +\"/anat/\"+ config[\"preprocess_dir\"][\"T1w_brain_seg\"] + \"mri/rp\"+nb_seg+\"*affine.nii\")[0])\n",
    "\n",
    "\n",
    "if not os.path.exists(seg_f[seg][0] +\"dartel_n\"+str(len(config[\"participants_IDs_dartel\"]))+\"_281024\" + \"_6.nii.gz\"):\n",
    "    print(\"Running dartel for : \" +str(len(config[\"participants_IDs_dartel\"])))\n",
    "    #print(eng.CreateDartel(seg_f[\"gm\"],seg_f[\"wm\"],seg_f[\"csf\"],\"dartel_n\"+str(len(config[\"participants_IDs_dartel\"]))+\"_281024\",config[\"tools_dir\"][\"spm_dir\"]))"
   ]
  }
 ],
 "metadata": {
  "kernelspec": {
   "display_name": "Python 3 (ipykernel)",
   "language": "python",
   "name": "python3"
  },
  "language_info": {
   "codemirror_mode": {
    "name": "ipython",
    "version": 3
   },
   "file_extension": ".py",
   "mimetype": "text/x-python",
   "name": "python",
   "nbconvert_exporter": "python",
   "pygments_lexer": "ipython3",
   "version": "3.10.14"
  },
  "varInspector": {
   "cols": {
    "lenName": 16,
    "lenType": 16,
    "lenVar": 40
   },
   "kernels_config": {
    "python": {
     "delete_cmd_postfix": "",
     "delete_cmd_prefix": "del ",
     "library": "var_list.py",
     "varRefreshCmd": "print(var_dic_list())"
    },
    "r": {
     "delete_cmd_postfix": ") ",
     "delete_cmd_prefix": "rm(",
     "library": "var_list.r",
     "varRefreshCmd": "cat(var_dic_list()) "
    }
   },
   "oldHeight": 834,
   "position": {
    "height": "793px",
    "left": "1128px",
    "right": "20px",
    "top": "31px",
    "width": "536px"
   },
   "types_to_exclude": [
    "module",
    "function",
    "builtin_function_or_method",
    "instance",
    "_Feature"
   ],
   "varInspector_section_display": "block",
   "window_display": false
  }
 },
 "nbformat": 4,
 "nbformat_minor": 4
}
